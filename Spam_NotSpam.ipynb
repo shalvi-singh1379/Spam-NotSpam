{
 "cells": [
  {
   "cell_type": "code",
   "execution_count": 1,
   "id": "a50ba6a5-d1c0-4634-ab74-82b37969a5de",
   "metadata": {},
   "outputs": [],
   "source": [
    "import pandas as pd\n",
    "from sklearn.model_selection import train_test_split\n",
    "from sklearn.feature_extraction.text import CountVectorizer\n",
    "from sklearn.naive_bayes import MultinomialNB\n",
    "from sklearn.metrics import accuracy_score, classification_report\n",
    "import joblib"
   ]
  },
  {
   "cell_type": "code",
   "execution_count": 5,
   "id": "c20e165d-491e-45f1-a7f9-a907efb18a6e",
   "metadata": {},
   "outputs": [],
   "source": [
    "# Load the dataset from the specified location\n",
    "data = pd.read_csv(r'C:\\Users\\SHALVI_SINGH\\Downloads\\spam.csv', encoding='latin-1')\n"
   ]
  },
  {
   "cell_type": "code",
   "execution_count": 6,
   "id": "349855ed-499b-46bb-bace-e8859da92a78",
   "metadata": {},
   "outputs": [],
   "source": [
    "# Preprocess the data\n",
    "data['label'] = data['v1'].map({'ham': 0, 'spam': 1})  # Convert labels to binary\n",
    "X = data['v2']  # Feature (the message)\n",
    "y = data['label']  # Target (the label)"
   ]
  },
  {
   "cell_type": "code",
   "execution_count": 7,
   "id": "c55a667c-d451-4032-a1f8-fc64716163bb",
   "metadata": {},
   "outputs": [],
   "source": [
    "# Split the dataset into training and testing sets\n",
    "X_train, X_test, y_train, y_test = train_test_split(X, y, test_size=0.2, random_state=42)\n",
    "\n",
    "# Vectorization\n",
    "vectorizer = CountVectorizer()\n",
    "X_train_vectorized = vectorizer.fit_transform(X_train)\n",
    "X_test_vectorized = vectorizer.transform(X_test)"
   ]
  },
  {
   "cell_type": "code",
   "execution_count": 8,
   "id": "c77fca1c-7013-4f0d-879c-dce58129418e",
   "metadata": {},
   "outputs": [],
   "source": [
    "# Train the classifier\n",
    "classifier = MultinomialNB()\n",
    "classifier.fit(X_train_vectorized, y_train)\n",
    "\n",
    "# Make predictions\n",
    "y_pred = classifier.predict(X_test_vectorized)"
   ]
  },
  {
   "cell_type": "code",
   "execution_count": 9,
   "id": "99f0d213-221a-429e-9624-58de75bc6753",
   "metadata": {},
   "outputs": [
    {
     "name": "stdout",
     "output_type": "stream",
     "text": [
      "Accuracy: 0.9838565022421525\n",
      "              precision    recall  f1-score   support\n",
      "\n",
      "           0       0.98      1.00      0.99       965\n",
      "           1       0.99      0.89      0.94       150\n",
      "\n",
      "    accuracy                           0.98      1115\n",
      "   macro avg       0.98      0.95      0.96      1115\n",
      "weighted avg       0.98      0.98      0.98      1115\n",
      "\n"
     ]
    }
   ],
   "source": [
    "# Evaluate the model\n",
    "print(\"Accuracy:\", accuracy_score(y_test, y_pred))\n",
    "print(classification_report(y_test, y_pred))"
   ]
  },
  {
   "cell_type": "code",
   "execution_count": 10,
   "id": "90f53175-5f1e-425e-9d89-41dbd3720b33",
   "metadata": {},
   "outputs": [],
   "source": [
    "# Save the model\n",
    "joblib.dump(classifier, 'sms_spam_classifier.pkl')\n",
    "\n",
    "# Load the model for predictions\n",
    "loaded_model = joblib.load('sms_spam_classifier.pkl')"
   ]
  },
  {
   "cell_type": "code",
   "execution_count": null,
   "id": "ac7411f9-fdd0-48ac-b39b-654602337cc9",
   "metadata": {},
   "outputs": [
    {
     "name": "stdin",
     "output_type": "stream",
     "text": [
      "Enter a message to classify (or type 'exit' to quit):  I am Shalvi\n"
     ]
    },
    {
     "name": "stdout",
     "output_type": "stream",
     "text": [
      "The message: 'I am Shalvi' is classified as: Not Spam\n"
     ]
    }
   ],
   "source": [
    "# Function to classify custom input messages\n",
    "def classify_messages(messages):\n",
    "    messages_vectorized = vectorizer.transform(messages)\n",
    "    predictions = loaded_model.predict(messages_vectorized)\n",
    "    return predictions\n",
    "\n",
    "# Custom input for classification\n",
    "while True:\n",
    "    user_input = input(\"Enter a message to classify (or type 'exit' to quit): \")\n",
    "    if user_input.lower() == 'exit':\n",
    "        break\n",
    "    prediction = classify_messages([user_input])\n",
    "    result = \"Spam\" if prediction[0] == 1 else \"Not Spam\"\n",
    "    print(f\"The message: '{user_input}' is classified as: {result}\")"
   ]
  },
  {
   "cell_type": "code",
   "execution_count": null,
   "id": "e20f2ac2-9f21-4588-b481-e5054e2e3412",
   "metadata": {},
   "outputs": [],
   "source": []
  }
 ],
 "metadata": {
  "kernelspec": {
   "display_name": "Python 3 (ipykernel)",
   "language": "python",
   "name": "python3"
  },
  "language_info": {
   "codemirror_mode": {
    "name": "ipython",
    "version": 3
   },
   "file_extension": ".py",
   "mimetype": "text/x-python",
   "name": "python",
   "nbconvert_exporter": "python",
   "pygments_lexer": "ipython3",
   "version": "3.11.7"
  }
 },
 "nbformat": 4,
 "nbformat_minor": 5
}
